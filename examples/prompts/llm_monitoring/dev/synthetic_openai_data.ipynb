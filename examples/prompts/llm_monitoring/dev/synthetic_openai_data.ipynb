{
 "cells": [
  {
   "cell_type": "markdown",
   "id": "4549831c",
   "metadata": {},
   "source": [
    "This board showcases what the default LLM monitoring template looks like.\n",
    "\n",
    "It logs synthetic data in the format used by the monitoring.openai integration.\n",
    "\n",
    "See the openai_monitoring notebook for instructions for logging real OpenAI API calls."
   ]
  },
  {
   "cell_type": "code",
   "execution_count": 1,
   "id": "00647082",
   "metadata": {},
   "outputs": [],
   "source": [
    "import uuid\n",
    "from datetime import timedelta\n",
    "import weave\n",
    "weave.use_frontend_devmode()\n",
    "from weave import ops_arrow\n",
    "from weave.monitoring import monitor"
   ]
  },
  {
   "cell_type": "code",
   "execution_count": 2,
   "id": "93041e2e",
   "metadata": {},
   "outputs": [],
   "source": [
    "from weave.syndata_mon import random_predictions"
   ]
  },
  {
   "cell_type": "code",
   "execution_count": 3,
   "id": "93653c45",
   "metadata": {},
   "outputs": [
    {
     "name": "stderr",
     "output_type": "stream",
     "text": [
      "100%|████████████████████████████████████████████████████████████████████████████████████████████████████████████████████████| 101/101 [00:00<00:00, 470.22it/s]\n"
     ]
    }
   ],
   "source": [
    "preds = random_predictions(10)\n",
    "\n",
    "# Convert synthetic data into the format used by the weave.monitoring.openai integration\n",
    "\n",
    "# convert model_version in the synthetic data to an openai model version\n",
    "# this makes it so that there's a new API key that has appeared in our logs recently, and that key\n",
    "# has started using gpt-4 which makes a cost spike\n",
    "versions = sorted(preds.column('model_version').unique())\n",
    "version_map = {}\n",
    "for i, v in enumerate(reversed(versions)):\n",
    "    api_key = 'sk-U4...yK7z'\n",
    "    model = 'gpt-3.5-turbo-0613'\n",
    "    if i == 1 or i == 2:\n",
    "        # second and third most recent versions use a different api key\n",
    "        api_key = 'sk-U9...a22c'\n",
    "    if i == 1:\n",
    "        # second most recent version uses gpt-4\n",
    "        model = 'gpt-4-0613'\n",
    "    version_map[v] = (api_key, model)\n",
    "    \n",
    "spans = [] \n",
    "for i, pred in enumerate(preds):\n",
    "    api_key, model = version_map[pred['model_version']]\n",
    "    latency_mult = 1\n",
    "    if model == 'gpt-4-0613':\n",
    "        latency_mult = 3\n",
    "    span = monitor.Span('openai.api_resources.chat_completion.type.create',\n",
    "                 inputs={\n",
    "                     'messages':[\n",
    "                         {\"role\": \"user\", \"content\": pred['prompt']}\n",
    "                     ]\n",
    "                 },\n",
    "                 output={\n",
    "                     'id': 'chatcmpl-%s' % uuid.uuid4(),\n",
    "                     'object': 'chat.completion',\n",
    "                     'created': pred['timestamp'].timestamp(),\n",
    "                     'model': model,\n",
    "                     'choices': [\n",
    "                         {\n",
    "                             'index': 0,\n",
    "                             'message': {\n",
    "                                 'role': 'assistant',\n",
    "                                 'content': pred['completion']\n",
    "                             },\n",
    "                             'finish_reason': 'stop'\n",
    "                         }\n",
    "                     ],\n",
    "\n",
    "                 },\n",
    "                 attributes={\n",
    "                     'api_key': api_key,\n",
    "                     'username': pred['username']\n",
    "                 },\n",
    "                 summary={\n",
    "                     'prompt_tokens': pred['prompt_tokens'],\n",
    "                     'completion_tokens': pred['completion_tokens'],\n",
    "                     'total_tokens': (pred['prompt_tokens'] + pred['completion_tokens'])\n",
    "                 })\n",
    "    span.start_time = pred['timestamp']\n",
    "    span.end_time = pred['timestamp'] + timedelta(seconds=pred['latency'] * latency_mult)\n",
    "    spans.append({'timestamp': pred['timestamp'], **span.asdict()})"
   ]
  },
  {
   "cell_type": "code",
   "execution_count": 4,
   "id": "9548c9aa",
   "metadata": {},
   "outputs": [],
   "source": [
    "# Save as a local table\n",
    "oai_data = weave.save(ops_arrow.to_arrow(spans), 'oai_data')"
   ]
  },
  {
   "cell_type": "code",
   "execution_count": 5,
   "id": "b59be0b5",
   "metadata": {},
   "outputs": [
    {
     "data": {
      "text/html": [
       "\n",
       "        <iframe\n",
       "            width=\"100%\"\n",
       "            height=\"400px\"\n",
       "            src=\"http://localhost:3000/__frontend/weave_jupyter?fullScreen&expNode=%7B%22nodeType%22%3A%20%22output%22%2C%20%22type%22%3A%20%22any%22%2C%20%22fromOp%22%3A%20%7B%22name%22%3A%20%22get%22%2C%20%22inputs%22%3A%20%7B%22uri%22%3A%20%7B%22nodeType%22%3A%20%22const%22%2C%20%22type%22%3A%20%22string%22%2C%20%22val%22%3A%20%22local-artifact%3A///dashboard-oai_data%3Alatest/obj%22%7D%7D%7D%7D\"\n",
       "            frameborder=\"0\"\n",
       "            allowfullscreen\n",
       "            allow=\"clipboard-write\"\n",
       "        ></iframe>\n",
       "        "
      ],
      "text/plain": [
       "<IPython.lib.display.IFrame at 0x1695b4040>"
      ]
     },
     "metadata": {},
     "output_type": "display_data"
    }
   ],
   "source": [
    "oai_data"
   ]
  },
  {
   "cell_type": "code",
   "execution_count": 6,
   "id": "7045f1eb",
   "metadata": {},
   "outputs": [
    {
     "data": {
      "text/html": [
       "\n",
       "        <iframe\n",
       "            width=\"100%\"\n",
       "            height=\"400px\"\n",
       "            src=\"http://localhost:3000/__frontend/weave_jupyter?fullScreen&expNode=%7B%22nodeType%22%3A%20%22output%22%2C%20%22type%22%3A%20%22any%22%2C%20%22fromOp%22%3A%20%7B%22name%22%3A%20%22get%22%2C%20%22inputs%22%3A%20%7B%22uri%22%3A%20%7B%22nodeType%22%3A%20%22const%22%2C%20%22type%22%3A%20%22string%22%2C%20%22val%22%3A%20%22local-artifact%3A///dashboard-Group0%3Alatest/obj%22%7D%7D%7D%7D\"\n",
       "            frameborder=\"0\"\n",
       "            allowfullscreen\n",
       "            allow=\"clipboard-write\"\n",
       "        ></iframe>\n",
       "        "
      ],
      "text/plain": [
       "<IPython.lib.display.IFrame at 0x103537940>"
      ]
     },
     "metadata": {},
     "output_type": "display_data"
    },
    {
     "name": "stderr",
     "output_type": "stream",
     "text": [
      "ERROR:segment:error uploading: HTTPSConnectionPool(host='api.segment.io', port=443): Max retries exceeded with url: /v1/batch (Caused by NewConnectionError('<urllib3.connection.HTTPSConnection object at 0x1695b45e0>: Failed to establish a new connection: [Errno 8] nodename nor servname provided, or not known'))\n"
     ]
    }
   ],
   "source": [
    "# Use the llm monitoring template to visualize the data\n",
    "from weave.panels_py import panel_llm_monitor\n",
    "board = panel_llm_monitor.board.raw_resolve_fn(oai_data)\n",
    "board"
   ]
  }
 ],
 "metadata": {
  "kernelspec": {
   "display_name": "Python 3 (ipykernel)",
   "language": "python",
   "name": "python3"
  },
  "language_info": {
   "codemirror_mode": {
    "name": "ipython",
    "version": 3
   },
   "file_extension": ".py",
   "mimetype": "text/x-python",
   "name": "python",
   "nbconvert_exporter": "python",
   "pygments_lexer": "ipython3",
   "version": "3.9.7"
  }
 },
 "nbformat": 4,
 "nbformat_minor": 5
}
