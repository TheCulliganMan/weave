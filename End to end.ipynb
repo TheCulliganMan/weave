{
 "cells": [
  {
   "cell_type": "code",
   "execution_count": 1,
   "id": "04bba52c",
   "metadata": {},
   "outputs": [],
   "source": [
    "import os\n",
    "import glob\n",
    "import weave\n",
    "import typing\n",
    "weave.use_frontend_devmode()"
   ]
  },
  {
   "cell_type": "code",
   "execution_count": 2,
   "id": "8172d67c",
   "metadata": {},
   "outputs": [],
   "source": [
    "def read_dataset(root):\n",
    "    # Have to do replace here because of weave '.' access issues\n",
    "    return [{'name': os.path.basename(p).replace('.', '_'), 'contents': open(p).read()}\n",
    "            for p in glob.glob(os.path.join(root, 'Articles*Real*.txt'))]"
   ]
  },
  {
   "cell_type": "code",
   "execution_count": 3,
   "id": "cb93f2a4",
   "metadata": {},
   "outputs": [],
   "source": [
    "# Can't just make our own types, server won't deserialize.\n",
    "# A fairly easy fix.\n",
    "@weave.type()\n",
    "class Dataset:\n",
    "    rows: list[typing.Any]"
   ]
  },
  {
   "cell_type": "code",
   "execution_count": 4,
   "id": "92c6535c",
   "metadata": {},
   "outputs": [],
   "source": [
    "raw_dataset = read_dataset('/Users/shawn/Downloads')"
   ]
  },
  {
   "cell_type": "code",
   "execution_count": 6,
   "id": "fc723706",
   "metadata": {
    "scrolled": false
   },
   "outputs": [
    {
     "name": "stderr",
     "output_type": "stream",
     "text": [
      "ERROR:segment:error uploading: HTTPSConnectionPool(host='api.segment.io', port=443): Max retries exceeded with url: /v1/batch (Caused by NewConnectionError('<urllib3.connection.HTTPSConnection object at 0x17c2ec4c0>: Failed to establish a new connection: [Errno 8] nodename nor servname provided, or not known'))\n"
     ]
    }
   ],
   "source": [
    "dataset = weave.save(Dataset(raw_dataset), 'my_dataset3')\n",
    "# Now, here I really want to make my own labels in the UI immediately.\n",
    "# where should the added column go? A new version of this dataset?\n",
    "# yeah sure why not.\n",
    "# What's missing for editing to be good?\n",
    "#   - batch editing, ie make a bunch of changes and choose where/how to save"
   ]
  },
  {
   "cell_type": "code",
   "execution_count": null,
   "id": "4a99df38",
   "metadata": {},
   "outputs": [],
   "source": [
    "published = weave.publish(Dataset(raw_dataset), 'weave-flow1/my_dataset1')"
   ]
  },
  {
   "cell_type": "code",
   "execution_count": 8,
   "id": "bec9b779",
   "metadata": {},
   "outputs": [
    {
     "data": {
      "text/html": [
       "\n",
       "        <iframe\n",
       "            width=\"100%\"\n",
       "            height=\"400px\"\n",
       "            src=\"http://localhost:3000/__frontend/weave_jupyter?fullScreen&expNode=%7B%22nodeType%22%3A%20%22output%22%2C%20%22type%22%3A%20%22any%22%2C%20%22fromOp%22%3A%20%7B%22name%22%3A%20%22get%22%2C%20%22inputs%22%3A%20%7B%22uri%22%3A%20%7B%22nodeType%22%3A%20%22const%22%2C%20%22type%22%3A%20%22string%22%2C%20%22val%22%3A%20%22local-artifact%3A///dashboard-my_dataset3%3Alatest/obj%22%7D%7D%7D%7D\"\n",
       "            frameborder=\"0\"\n",
       "            allowfullscreen\n",
       "            allow=\"clipboard-write\"\n",
       "        ></iframe>\n",
       "        "
      ],
      "text/plain": [
       "<IPython.lib.display.IFrame at 0x17c348730>"
      ]
     },
     "metadata": {},
     "output_type": "display_data"
    },
    {
     "name": "stderr",
     "output_type": "stream",
     "text": [
      "ERROR:segment:error uploading: HTTPSConnectionPool(host='api.segment.io', port=443): Max retries exceeded with url: /v1/batch (Caused by NewConnectionError('<urllib3.connection.HTTPSConnection object at 0x17c348ca0>: Failed to establish a new connection: [Errno 8] nodename nor servname provided, or not known'))\n"
     ]
    }
   ],
   "source": [
    "dataset"
   ]
  },
  {
   "cell_type": "code",
   "execution_count": 9,
   "id": "fcbc34bd",
   "metadata": {},
   "outputs": [
    {
     "name": "stderr",
     "output_type": "stream",
     "text": [
      "ERROR:segment:error uploading: HTTPSConnectionPool(host='api.segment.io', port=443): Max retries exceeded with url: /v1/batch (Caused by NewConnectionError('<urllib3.connection.HTTPSConnection object at 0x1039a63d0>: Failed to establish a new connection: [Errno 8] nodename nor servname provided, or not known'))\n"
     ]
    }
   ],
   "source": [
    "raw_labels = {\n",
    "    'Articles_of_Incorporation_Real_Example_3_txt': {\n",
    "        'shares': 500000\n",
    "    },\n",
    "    'Articles_of_Incorporation_Real_Example_2_txt': {\n",
    "        'shares': None\n",
    "    },\n",
    "    'Articles_of_Incorporation_Real_Example_1_txt': {\n",
    "        'shares': 1000000\n",
    "    }\n",
    "}\n",
    "labels = weave.save(raw_labels, 'my_labels')"
   ]
  },
  {
   "cell_type": "code",
   "execution_count": 10,
   "id": "77c71a23",
   "metadata": {},
   "outputs": [
    {
     "data": {
      "text/html": [
       "\n",
       "        <iframe\n",
       "            width=\"100%\"\n",
       "            height=\"400px\"\n",
       "            src=\"http://localhost:3000/__frontend/weave_jupyter?fullScreen&expNode=%7B%22nodeType%22%3A%20%22output%22%2C%20%22type%22%3A%20%22any%22%2C%20%22fromOp%22%3A%20%7B%22name%22%3A%20%22get%22%2C%20%22inputs%22%3A%20%7B%22uri%22%3A%20%7B%22nodeType%22%3A%20%22const%22%2C%20%22type%22%3A%20%22string%22%2C%20%22val%22%3A%20%22local-artifact%3A///dashboard-my_dataset3%3Alatest/obj%22%7D%7D%7D%7D\"\n",
       "            frameborder=\"0\"\n",
       "            allowfullscreen\n",
       "            allow=\"clipboard-write\"\n",
       "        ></iframe>\n",
       "        "
      ],
      "text/plain": [
       "<IPython.lib.display.IFrame at 0x17c348640>"
      ]
     },
     "metadata": {},
     "output_type": "display_data"
    },
    {
     "name": "stderr",
     "output_type": "stream",
     "text": [
      "ERROR:segment:error uploading: HTTPSConnectionPool(host='api.segment.io', port=443): Max retries exceeded with url: /v1/batch (Caused by NewConnectionError('<urllib3.connection.HTTPSConnection object at 0x17c348190>: Failed to establish a new connection: [Errno 8] nodename nor servname provided, or not known'))\n"
     ]
    }
   ],
   "source": [
    "dataset\n",
    "# Here i went to render labels next to dataset.\n",
    "# I need access to labels in the notebook memory... would be easy enough to pass in"
   ]
  },
  {
   "cell_type": "code",
   "execution_count": 11,
   "id": "331d88d6",
   "metadata": {},
   "outputs": [],
   "source": [
    "import re\n",
    "\n",
    "def split_paragraphs(doc):\n",
    "    return [p.strip() for p in doc.split('\\n\\n')]\n",
    "\n",
    "def find_first_numeric(s):\n",
    "    match = re.search(r'\\b(\\d{1,3}(?:,\\d{3})*(?:\\.\\d+)?)\\b', s)\n",
    "    if match is None:\n",
    "        return None\n",
    "    return float(match.group().replace(',', ''))\n",
    "\n",
    "def extraction_pipeline(doc):\n",
    "    paragraphs = split_paragraphs(doc)\n",
    "    capital_paragraph = None\n",
    "    for p in paragraphs:\n",
    "        if 'share' in p.lower():\n",
    "            capital_paragraph = p\n",
    "    if not p:\n",
    "        return {'shares': None}\n",
    "    \n",
    "    return {'shares': find_first_numeric(capital_paragraph)}"
   ]
  },
  {
   "cell_type": "code",
   "execution_count": 12,
   "id": "83a020ae",
   "metadata": {},
   "outputs": [
    {
     "ename": "TypeError",
     "evalue": "'Dataset' object is not iterable",
     "output_type": "error",
     "traceback": [
      "\u001b[0;31m---------------------------------------------------------------------------\u001b[0m",
      "\u001b[0;31mTypeError\u001b[0m                                 Traceback (most recent call last)",
      "Cell \u001b[0;32mIn[12], line 3\u001b[0m\n\u001b[1;32m      1\u001b[0m raw_labeled_ds \u001b[38;5;241m=\u001b[39m []\n\u001b[1;32m      2\u001b[0m labels_val \u001b[38;5;241m=\u001b[39m weave\u001b[38;5;241m.\u001b[39muse(labels)\n\u001b[0;32m----> 3\u001b[0m \u001b[38;5;28;01mfor\u001b[39;00m row \u001b[38;5;129;01min\u001b[39;00m weave\u001b[38;5;241m.\u001b[39muse(dataset):\n\u001b[1;32m      4\u001b[0m     labeled_row \u001b[38;5;241m=\u001b[39m {\u001b[38;5;241m*\u001b[39m\u001b[38;5;241m*\u001b[39mrow, \u001b[38;5;124m'\u001b[39m\u001b[38;5;124mlabels\u001b[39m\u001b[38;5;124m'\u001b[39m: labels_val\u001b[38;5;241m.\u001b[39mget(row[\u001b[38;5;124m'\u001b[39m\u001b[38;5;124mname\u001b[39m\u001b[38;5;124m'\u001b[39m])}\n\u001b[1;32m      5\u001b[0m     raw_labeled_ds\u001b[38;5;241m.\u001b[39mappend(labeled_row)\n",
      "\u001b[0;31mTypeError\u001b[0m: 'Dataset' object is not iterable"
     ]
    },
    {
     "name": "stderr",
     "output_type": "stream",
     "text": [
      "ERROR:segment:error uploading: HTTPSConnectionPool(host='api.segment.io', port=443): Max retries exceeded with url: /v1/batch (Caused by NewConnectionError('<urllib3.connection.HTTPSConnection object at 0x17c2ecbb0>: Failed to establish a new connection: [Errno 8] nodename nor servname provided, or not known'))\n"
     ]
    }
   ],
   "source": [
    "raw_labeled_ds = []\n",
    "labels_val = weave.use(labels)\n",
    "for row in weave.use(dataset):\n",
    "    labeled_row = {**row, 'labels': labels_val.get(row['name'])}\n",
    "    raw_labeled_ds.append(labeled_row)"
   ]
  },
  {
   "cell_type": "code",
   "execution_count": null,
   "id": "9e821b70",
   "metadata": {},
   "outputs": [],
   "source": [
    "# OK so at this point, I have a working model. It just extracts one field.\n",
    "# and it sucks. But it's a start\n",
    "for row in raw_labeled_ds:\n",
    "    print(extraction_pipeline(row['contents']))"
   ]
  },
  {
   "cell_type": "code",
   "execution_count": null,
   "id": "bd82c332",
   "metadata": {},
   "outputs": [],
   "source": [
    "weave.use(labels)"
   ]
  },
  {
   "cell_type": "code",
   "execution_count": 13,
   "id": "efc63aa7",
   "metadata": {},
   "outputs": [],
   "source": [
    "# Next I want to automate the process of evaluating this model\n",
    "\n",
    "def summarize_item(result, label):\n",
    "    return result['shares'] == label['shares']\n",
    "\n",
    "def evaluate(dataset, labels, pipeline):\n",
    "    # TODO: pipeline should also produce a trace\n",
    "    results = {row['name']: pipeline(row['contents']) for row in dataset}\n",
    "    item_summaries = {}\n",
    "    for key in results:\n",
    "        item_summaries[key] = summarize_item(results[key], labels[key])\n",
    "    eval_results = []\n",
    "    for row in dataset:\n",
    "        eval_result = {'example': row, 'label': labels[row['name']], 'item_eval': item_summaries[row['name']]}\n",
    "        eval_results.append(eval_result)\n",
    "    summary = {'n_examples': len(dataset), 'n_correct': len([summ for summ in item_summaries.values() if summ])}\n",
    "    return {'eval_results': eval_results, 'summary': summary}"
   ]
  },
  {
   "cell_type": "code",
   "execution_count": 14,
   "id": "f2248364",
   "metadata": {},
   "outputs": [
    {
     "ename": "TypeError",
     "evalue": "'Dataset' object is not iterable",
     "output_type": "error",
     "traceback": [
      "\u001b[0;31m---------------------------------------------------------------------------\u001b[0m",
      "\u001b[0;31mTypeError\u001b[0m                                 Traceback (most recent call last)",
      "Cell \u001b[0;32mIn[14], line 1\u001b[0m\n\u001b[0;32m----> 1\u001b[0m eval_results \u001b[38;5;241m=\u001b[39m \u001b[43mevaluate\u001b[49m\u001b[43m(\u001b[49m\u001b[43mweave\u001b[49m\u001b[38;5;241;43m.\u001b[39;49m\u001b[43muse\u001b[49m\u001b[43m(\u001b[49m\u001b[43mdataset\u001b[49m\u001b[43m)\u001b[49m\u001b[43m,\u001b[49m\u001b[43m \u001b[49m\u001b[43mraw_labels\u001b[49m\u001b[43m,\u001b[49m\u001b[43m \u001b[49m\u001b[43mextraction_pipeline\u001b[49m\u001b[43m)\u001b[49m\n",
      "Cell \u001b[0;32mIn[13], line 8\u001b[0m, in \u001b[0;36mevaluate\u001b[0;34m(dataset, labels, pipeline)\u001b[0m\n\u001b[1;32m      6\u001b[0m \u001b[38;5;28;01mdef\u001b[39;00m \u001b[38;5;21mevaluate\u001b[39m(dataset, labels, pipeline):\n\u001b[1;32m      7\u001b[0m     \u001b[38;5;66;03m# TODO: pipeline should also produce a trace\u001b[39;00m\n\u001b[0;32m----> 8\u001b[0m     results \u001b[38;5;241m=\u001b[39m {row[\u001b[38;5;124m'\u001b[39m\u001b[38;5;124mname\u001b[39m\u001b[38;5;124m'\u001b[39m]: pipeline(row[\u001b[38;5;124m'\u001b[39m\u001b[38;5;124mcontents\u001b[39m\u001b[38;5;124m'\u001b[39m]) \u001b[38;5;28;01mfor\u001b[39;00m row \u001b[38;5;129;01min\u001b[39;00m dataset}\n\u001b[1;32m      9\u001b[0m     item_summaries \u001b[38;5;241m=\u001b[39m {}\n\u001b[1;32m     10\u001b[0m     \u001b[38;5;28;01mfor\u001b[39;00m key \u001b[38;5;129;01min\u001b[39;00m results:\n",
      "\u001b[0;31mTypeError\u001b[0m: 'Dataset' object is not iterable"
     ]
    },
    {
     "name": "stderr",
     "output_type": "stream",
     "text": [
      "ERROR:segment:error uploading: HTTPSConnectionPool(host='api.segment.io', port=443): Max retries exceeded with url: /v1/batch (Caused by NewConnectionError('<urllib3.connection.HTTPSConnection object at 0x17c2ec400>: Failed to establish a new connection: [Errno 8] nodename nor servname provided, or not known'))\n"
     ]
    }
   ],
   "source": [
    "eval_results = evaluate(weave.use(dataset), raw_labels, extraction_pipeline)"
   ]
  },
  {
   "cell_type": "code",
   "execution_count": null,
   "id": "a74edce9",
   "metadata": {},
   "outputs": [],
   "source": [
    "# I really want W&B runs for this\n",
    "# It's just that I need an eval dashboard"
   ]
  },
  {
   "cell_type": "code",
   "execution_count": null,
   "id": "166e8607",
   "metadata": {},
   "outputs": [],
   "source": [
    "# What do I want to see on an evaluation dashboard?\n",
    "# Pick two evaluations and compare them (or pick N)\n",
    "# See side by side pipeline code, and parameters\n",
    "# See scores\n",
    "# See examples we did better or worse on\n",
    "# (easy examples, hard examples)\n",
    "# or really, see confusing examples?\n",
    "\n",
    "# This is the Zoox board. Just make that and all will be good.\n",
    "# Need to specify the appropriate Weave data structures for it.\n",
    "# VarBar\n",
    "# 1. pick a project\n",
    "# 2. pick a dataset from that project\n",
    "# 3. pick N eval runs for that dataset\n",
    "# \n",
    "# Main\n",
    "# Code/Config comparison, what runs am I looking at?\n",
    "# summary metrics comparison\n",
    "# example comparison / exploration\n",
    "\n",
    "# OK if inside a wandb run, I need weave.use() to do use_artifact, and weave.save() to do save_artifact\n",
    "#   (and sticking this in summary to make an output edge I think? yes.)"
   ]
  }
 ],
 "metadata": {
  "kernelspec": {
   "display_name": "Python 3 (ipykernel)",
   "language": "python",
   "name": "python3"
  },
  "language_info": {
   "codemirror_mode": {
    "name": "ipython",
    "version": 3
   },
   "file_extension": ".py",
   "mimetype": "text/x-python",
   "name": "python",
   "nbconvert_exporter": "python",
   "pygments_lexer": "ipython3",
   "version": "3.9.7"
  }
 },
 "nbformat": 4,
 "nbformat_minor": 5
}
