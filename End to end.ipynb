{
 "cells": [
  {
   "cell_type": "code",
   "execution_count": 101,
   "id": "04bba52c",
   "metadata": {},
   "outputs": [],
   "source": [
    "import os\n",
    "import glob\n",
    "import weave\n",
    "import typing\n",
    "weave.use_frontend_devmode()"
   ]
  },
  {
   "cell_type": "code",
   "execution_count": 30,
   "id": "8172d67c",
   "metadata": {},
   "outputs": [],
   "source": [
    "def read_dataset(root):\n",
    "    # Have to do replace here because of weave '.' access issues\n",
    "    return [{'name': os.path.basename(p).replace('.', '_'), 'contents': open(p).read()}\n",
    "            for p in glob.glob(os.path.join(root, 'Articles*Real*.txt'))]"
   ]
  },
  {
   "cell_type": "code",
   "execution_count": 102,
   "id": "cb93f2a4",
   "metadata": {},
   "outputs": [],
   "source": [
    "# Can't just make our own types, server won't deserialize.\n",
    "# A fairly easy fix.\n",
    "@weave.type()\n",
    "class Dataset:\n",
    "    rows: list[typing.Any]"
   ]
  },
  {
   "cell_type": "code",
   "execution_count": 31,
   "id": "92c6535c",
   "metadata": {},
   "outputs": [],
   "source": [
    "raw_dataset = read_dataset('/Users/shawn/Downloads')"
   ]
  },
  {
   "cell_type": "code",
   "execution_count": 104,
   "id": "fc723706",
   "metadata": {},
   "outputs": [],
   "source": [
    "dataset = weave.save(Dataset(raw_dataset), 'my_dataset3')\n",
    "# Now, here I really want to make my own labels in the UI immediately.\n",
    "# where should the added column go? A new version of this dataset?\n",
    "# yeah sure why not.\n",
    "# What's missing for editing to be good?\n",
    "#   - batch editing, ie make a bunch of changes and choose where/how to save"
   ]
  },
  {
   "cell_type": "code",
   "execution_count": 108,
   "id": "4a99df38",
   "metadata": {},
   "outputs": [],
   "source": [
    "published = weave.publish(Dataset(raw_dataset), 'weave-flow1/my_dataset1')"
   ]
  },
  {
   "cell_type": "code",
   "execution_count": 105,
   "id": "bec9b779",
   "metadata": {},
   "outputs": [
    {
     "data": {
      "text/html": [
       "\n",
       "        <iframe\n",
       "            width=\"100%\"\n",
       "            height=\"400px\"\n",
       "            src=\"http://localhost:3000/__frontend/weave_jupyter?fullScreen&expNode=%7B%22nodeType%22%3A%20%22output%22%2C%20%22type%22%3A%20%22any%22%2C%20%22fromOp%22%3A%20%7B%22name%22%3A%20%22get%22%2C%20%22inputs%22%3A%20%7B%22uri%22%3A%20%7B%22nodeType%22%3A%20%22const%22%2C%20%22type%22%3A%20%22string%22%2C%20%22val%22%3A%20%22local-artifact%3A///dashboard-my_dataset3%3Alatest/obj%22%7D%7D%7D%7D\"\n",
       "            frameborder=\"0\"\n",
       "            allowfullscreen\n",
       "            allow=\"clipboard-write\"\n",
       "        ></iframe>\n",
       "        "
      ],
      "text/plain": [
       "<IPython.lib.display.IFrame at 0x2dbb8bb80>"
      ]
     },
     "metadata": {},
     "output_type": "display_data"
    }
   ],
   "source": [
    "dataset"
   ]
  },
  {
   "cell_type": "code",
   "execution_count": 86,
   "id": "fcbc34bd",
   "metadata": {},
   "outputs": [],
   "source": [
    "raw_labels = {\n",
    "    'Articles_of_Incorporation_Real_Example_3_txt': {\n",
    "        'shares': 500000\n",
    "    },\n",
    "    'Articles_of_Incorporation_Real_Example_2_txt': {\n",
    "        'shares': None\n",
    "    },\n",
    "    'Articles_of_Incorporation_Real_Example_1_txt': {\n",
    "        'shares': 1000000\n",
    "    }\n",
    "}\n",
    "labels = weave.save(raw_labels, 'my_labels')"
   ]
  },
  {
   "cell_type": "code",
   "execution_count": 36,
   "id": "77c71a23",
   "metadata": {},
   "outputs": [
    {
     "data": {
      "text/html": [
       "\n",
       "        <iframe\n",
       "            width=\"100%\"\n",
       "            height=\"400px\"\n",
       "            src=\"http://localhost:3000/__frontend/weave_jupyter?fullScreen&expNode=%7B%22nodeType%22%3A%20%22output%22%2C%20%22type%22%3A%20%22any%22%2C%20%22fromOp%22%3A%20%7B%22name%22%3A%20%22get%22%2C%20%22inputs%22%3A%20%7B%22uri%22%3A%20%7B%22nodeType%22%3A%20%22const%22%2C%20%22type%22%3A%20%22string%22%2C%20%22val%22%3A%20%22local-artifact%3A///dashboard-my_dataset2%3Alatest/obj%22%7D%7D%7D%7D\"\n",
       "            frameborder=\"0\"\n",
       "            allowfullscreen\n",
       "            allow=\"clipboard-write\"\n",
       "        ></iframe>\n",
       "        "
      ],
      "text/plain": [
       "<IPython.lib.display.IFrame at 0x2a2046160>"
      ]
     },
     "metadata": {},
     "output_type": "display_data"
    }
   ],
   "source": [
    "dataset\n",
    "# Here i went to render labels next to dataset.\n",
    "# I need access to labels in the notebook memory... would be easy enough to pass in"
   ]
  },
  {
   "cell_type": "code",
   "execution_count": 97,
   "id": "331d88d6",
   "metadata": {},
   "outputs": [],
   "source": [
    "import re\n",
    "\n",
    "def split_paragraphs(doc):\n",
    "    return [p.strip() for p in doc.split('\\n\\n')]\n",
    "\n",
    "def find_first_numeric(s):\n",
    "    match = re.search(r'\\b(\\d{1,3}(?:,\\d{3})*(?:\\.\\d+)?)\\b', s)\n",
    "    if match is None:\n",
    "        return None\n",
    "    return float(match.group().replace(',', ''))\n",
    "\n",
    "def extraction_pipeline(doc):\n",
    "    paragraphs = split_paragraphs(doc)\n",
    "    capital_paragraph = None\n",
    "    for p in paragraphs:\n",
    "        if 'share' in p.lower():\n",
    "            capital_paragraph = p\n",
    "    if not p:\n",
    "        return {'shares': None}\n",
    "    \n",
    "    return {'shares': find_first_numeric(capital_paragraph)}"
   ]
  },
  {
   "cell_type": "code",
   "execution_count": 62,
   "id": "83a020ae",
   "metadata": {},
   "outputs": [],
   "source": [
    "raw_labeled_ds = []\n",
    "labels_val = weave.use(labels)\n",
    "for row in weave.use(dataset):\n",
    "    labeled_row = {**row, 'labels': labels_val.get(row['name'])}\n",
    "    raw_labeled_ds.append(labeled_row)"
   ]
  },
  {
   "cell_type": "code",
   "execution_count": 69,
   "id": "9e821b70",
   "metadata": {},
   "outputs": [
    {
     "name": "stdout",
     "output_type": "stream",
     "text": [
      "S Section 5: Capital Structure\n",
      "The total number of shares authorized is 500,000.\n",
      "{'shares': 5.0}\n",
      "S 4. Authorized Capital\n",
      "The authorized share capital is $500,000.\n",
      "{'shares': 4.0}\n",
      "S Article IV: Share Structure\n",
      "The corporation is authorized to issue 1,000,000 shares of Common Stock.\n",
      "{'shares': 1000000.0}\n"
     ]
    }
   ],
   "source": [
    "# OK so at this point, I have a working model. It just extracts one field.\n",
    "# and it sucks. But it's a start\n",
    "for row in raw_labeled_ds:\n",
    "    print(extraction_pipeline(row['contents']))"
   ]
  },
  {
   "cell_type": "code",
   "execution_count": 81,
   "id": "bd82c332",
   "metadata": {},
   "outputs": [
    {
     "data": {
      "text/plain": [
       "{'Articles_of_Incorporation_Real_Example_3_txt': {'shares': 500000},\n",
       " 'Articles_of_Incorporation_Real_Example_2_txt': {'shares': 1000000}}"
      ]
     },
     "execution_count": 81,
     "metadata": {},
     "output_type": "execute_result"
    }
   ],
   "source": [
    "weave.use(labels)"
   ]
  },
  {
   "cell_type": "code",
   "execution_count": 98,
   "id": "efc63aa7",
   "metadata": {},
   "outputs": [],
   "source": [
    "# Next I want to automate the process of evaluating this model\n",
    "\n",
    "def summarize_item(result, label):\n",
    "    return result['shares'] == label['shares']\n",
    "\n",
    "def evaluate(dataset, labels, pipeline):\n",
    "    # TODO: pipeline should also produce a trace\n",
    "    results = {row['name']: pipeline(row['contents']) for row in dataset}\n",
    "    item_summaries = {}\n",
    "    for key in results:\n",
    "        item_summaries[key] = summarize_item(results[key], labels[key])\n",
    "    eval_results = []\n",
    "    for row in dataset:\n",
    "        eval_result = {'example': row, 'label': labels[row['name']], 'item_eval': item_summaries[row['name']]}\n",
    "        eval_results.append(eval_result)\n",
    "    summary = {'n_examples': len(dataset), 'n_correct': len([summ for summ in item_summaries.values() if summ])}\n",
    "    return {'eval_results': eval_results, 'summary': summary}"
   ]
  },
  {
   "cell_type": "code",
   "execution_count": 99,
   "id": "f2248364",
   "metadata": {},
   "outputs": [],
   "source": [
    "eval_results = evaluate(weave.use(dataset), raw_labels, extraction_pipeline)"
   ]
  },
  {
   "cell_type": "code",
   "execution_count": null,
   "id": "a74edce9",
   "metadata": {},
   "outputs": [],
   "source": [
    "# I really want W&B runs for this\n",
    "# It's just that I need an eval dashboard"
   ]
  },
  {
   "cell_type": "code",
   "execution_count": null,
   "id": "166e8607",
   "metadata": {},
   "outputs": [],
   "source": [
    "# What do I want to see on an evaluation dashboard?\n",
    "# Pick two evaluations and compare them (or pick N)\n",
    "# See side by side pipeline code, and parameters\n",
    "# See scores\n",
    "# See examples we did better or worse on\n",
    "# (easy examples, hard examples)\n",
    "# or really, see confusing examples?\n",
    "\n",
    "# This is the Zoox board. Just make that and all will be good.\n",
    "# Need to specify the appropriate Weave data structures for it.\n",
    "# VarBar\n",
    "# 1. pick a project\n",
    "# 2. pick a dataset from that project\n",
    "# 3. pick N eval runs for that dataset\n",
    "# \n",
    "# Main\n",
    "# Code/Config comparison, what runs am I looking at?\n",
    "# summary metrics comparison\n",
    "# example comparison / exploration\n",
    "\n",
    "# OK if inside a wandb run, I need weave.use() to do use_artifact, and weave.save() to do save_artifact\n",
    "#   (and sticking this in summary to make an output edge I think? yes.)"
   ]
  }
 ],
 "metadata": {
  "kernelspec": {
   "display_name": "Python 3 (ipykernel)",
   "language": "python",
   "name": "python3"
  },
  "language_info": {
   "codemirror_mode": {
    "name": "ipython",
    "version": 3
   },
   "file_extension": ".py",
   "mimetype": "text/x-python",
   "name": "python",
   "nbconvert_exporter": "python",
   "pygments_lexer": "ipython3",
   "version": "3.9.7"
  }
 },
 "nbformat": 4,
 "nbformat_minor": 5
}
